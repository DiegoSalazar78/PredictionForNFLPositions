{
 "cells": [
  {
   "metadata": {},
   "cell_type": "markdown",
   "source": [
    "# Evidence\n",
    "### Financial Modeling and Programming\n",
    "\n",
    "##### Name: Diego Arturo Salazar Silva\n",
    "##### Teacher: Homero Zambrano"
   ],
   "id": "f271812a5ebcd3ad"
  },
  {
   "metadata": {},
   "cell_type": "markdown",
   "source": "At first, I import some libraries, I will need pandas, and sklearn for the models",
   "id": "2f11171e5ca5b62d"
  },
  {
   "cell_type": "code",
   "id": "initial_id",
   "metadata": {
    "collapsed": true,
    "ExecuteTime": {
     "end_time": "2024-10-15T22:28:35.529855Z",
     "start_time": "2024-10-15T22:28:35.424375Z"
    }
   },
   "source": [
    "import pandas as pd\n",
    "import matplotlib.pyplot as plt\n",
    "import seaborn as sns\n",
    "from sklearn.model_selection import train_test_split\n",
    "from sklearn.metrics import confusion_matrix, classification_report\n",
    "from sklearn.discriminant_analysis import LinearDiscriminantAnalysis\n",
    "from sklearn.model_selection import cross_val_score\n",
    "from sklearn.feature_selection import RFECV\n",
    "from sklearn.linear_model import LinearRegression\n",
    "from sklearn.preprocessing import LabelEncoder\n",
    "from sklearn.preprocessing import StandardScaler"
   ],
   "outputs": [],
   "execution_count": 215
  },
  {
   "metadata": {},
   "cell_type": "markdown",
   "source": "I'll copy the data frame, I will use the first one for the Linear Discriminant Analysis and the second one to the Linear Regression",
   "id": "423daefa67c9980a"
  },
  {
   "metadata": {
    "ExecuteTime": {
     "end_time": "2024-10-15T22:12:44.349730Z",
     "start_time": "2024-10-15T22:12:44.342721Z"
    }
   },
   "cell_type": "code",
   "source": [
    "df = pd.read_csv('/Users/diegosalazar/Documents/evidence.csv')\n",
    "dg = df.copy()"
   ],
   "id": "78f5bd69b7de7151",
   "outputs": [],
   "execution_count": 194
  },
  {
   "metadata": {},
   "cell_type": "markdown",
   "source": "### Data cleaning",
   "id": "d7f0f83db1c49784"
  },
  {
   "metadata": {},
   "cell_type": "markdown",
   "source": "In this section, I will treat any missing values (NAs), I will standarize the values needed or encoding them (if needed). Also, I need to know how many categories are in the independent variable. (4 categories)",
   "id": "3551faf1f9ed1edd"
  },
  {
   "metadata": {
    "ExecuteTime": {
     "end_time": "2024-10-15T22:13:33.164698Z",
     "start_time": "2024-10-15T22:13:33.143554Z"
    }
   },
   "cell_type": "code",
   "source": "#df.value_counts(\"PosGroup\")",
   "id": "d74b8ac0d13f6afb",
   "outputs": [],
   "execution_count": 195
  },
  {
   "metadata": {},
   "cell_type": "markdown",
   "source": "Here, I normalize my variables because in order to apply any Machine Learning method, the values should be in the same magnitude.",
   "id": "206e92df8a6d5115"
  },
  {
   "metadata": {
    "ExecuteTime": {
     "end_time": "2024-10-15T22:15:13.443398Z",
     "start_time": "2024-10-15T22:15:13.426263Z"
    }
   },
   "cell_type": "code",
   "source": [
    "scaler = StandardScaler()\n",
    "df[\"Height\"] = df[\"Height\"].astype(float)\n",
    "df[\"Weight\"] = df[\"Weight\"].astype(float)\n",
    "df.loc[:, \"Height\"] = scaler.fit_transform(df[[\"Height\"]])\n",
    "df.loc[:, \"Weight\"] = scaler.fit_transform(df[[\"Weight\"]])"
   ],
   "id": "c47819c5f9961d86",
   "outputs": [],
   "execution_count": 202
  },
  {
   "metadata": {},
   "cell_type": "markdown",
   "source": "Here, I divide my code into my dependent variables and my independent variable",
   "id": "2a130f11d928abff"
  },
  {
   "metadata": {
    "ExecuteTime": {
     "end_time": "2024-10-15T22:15:14.772545Z",
     "start_time": "2024-10-15T22:15:14.769027Z"
    }
   },
   "cell_type": "code",
   "source": [
    "y = df['PosGroup']\n",
    "x = df[['Height', 'Weight']]"
   ],
   "id": "d1abf57e3d8fc779",
   "outputs": [],
   "execution_count": 203
  },
  {
   "metadata": {},
   "cell_type": "markdown",
   "source": "### Linear Discriminant Analysis",
   "id": "12395aff1ec5e012"
  },
  {
   "metadata": {},
   "cell_type": "markdown",
   "source": [
    "At first, I need to divide the data set into 2 parts, the one that trains the model, and the one that tests it.\n",
    "I used a distribution of 80% to train and 20% to test. At every time you run the code, it will show different results because there is no seed (random_state) given."
   ],
   "id": "d0479ad53b439ab"
  },
  {
   "metadata": {
    "ExecuteTime": {
     "end_time": "2024-10-15T22:14:15.543652Z",
     "start_time": "2024-10-15T22:14:15.537270Z"
    }
   },
   "cell_type": "code",
   "source": "x_train, x_test, y_train, y_test = train_test_split(x, y, test_size=0.2)",
   "id": "58fea6423f241f1b",
   "outputs": [],
   "execution_count": 198
  },
  {
   "metadata": {
    "ExecuteTime": {
     "end_time": "2024-10-15T22:14:17.437317Z",
     "start_time": "2024-10-15T22:14:17.421275Z"
    }
   },
   "cell_type": "code",
   "source": [
    "model = LinearDiscriminantAnalysis()\n",
    "model.fit(x_train, y_train)\n",
    "\n"
   ],
   "id": "b5444de600b8016b",
   "outputs": [
    {
     "data": {
      "text/plain": [
       "LinearDiscriminantAnalysis()"
      ],
      "text/html": [
       "<style>#sk-container-id-11 {\n",
       "  /* Definition of color scheme common for light and dark mode */\n",
       "  --sklearn-color-text: black;\n",
       "  --sklearn-color-line: gray;\n",
       "  /* Definition of color scheme for unfitted estimators */\n",
       "  --sklearn-color-unfitted-level-0: #fff5e6;\n",
       "  --sklearn-color-unfitted-level-1: #f6e4d2;\n",
       "  --sklearn-color-unfitted-level-2: #ffe0b3;\n",
       "  --sklearn-color-unfitted-level-3: chocolate;\n",
       "  /* Definition of color scheme for fitted estimators */\n",
       "  --sklearn-color-fitted-level-0: #f0f8ff;\n",
       "  --sklearn-color-fitted-level-1: #d4ebff;\n",
       "  --sklearn-color-fitted-level-2: #b3dbfd;\n",
       "  --sklearn-color-fitted-level-3: cornflowerblue;\n",
       "\n",
       "  /* Specific color for light theme */\n",
       "  --sklearn-color-text-on-default-background: var(--sg-text-color, var(--theme-code-foreground, var(--jp-content-font-color1, black)));\n",
       "  --sklearn-color-background: var(--sg-background-color, var(--theme-background, var(--jp-layout-color0, white)));\n",
       "  --sklearn-color-border-box: var(--sg-text-color, var(--theme-code-foreground, var(--jp-content-font-color1, black)));\n",
       "  --sklearn-color-icon: #696969;\n",
       "\n",
       "  @media (prefers-color-scheme: dark) {\n",
       "    /* Redefinition of color scheme for dark theme */\n",
       "    --sklearn-color-text-on-default-background: var(--sg-text-color, var(--theme-code-foreground, var(--jp-content-font-color1, white)));\n",
       "    --sklearn-color-background: var(--sg-background-color, var(--theme-background, var(--jp-layout-color0, #111)));\n",
       "    --sklearn-color-border-box: var(--sg-text-color, var(--theme-code-foreground, var(--jp-content-font-color1, white)));\n",
       "    --sklearn-color-icon: #878787;\n",
       "  }\n",
       "}\n",
       "\n",
       "#sk-container-id-11 {\n",
       "  color: var(--sklearn-color-text);\n",
       "}\n",
       "\n",
       "#sk-container-id-11 pre {\n",
       "  padding: 0;\n",
       "}\n",
       "\n",
       "#sk-container-id-11 input.sk-hidden--visually {\n",
       "  border: 0;\n",
       "  clip: rect(1px 1px 1px 1px);\n",
       "  clip: rect(1px, 1px, 1px, 1px);\n",
       "  height: 1px;\n",
       "  margin: -1px;\n",
       "  overflow: hidden;\n",
       "  padding: 0;\n",
       "  position: absolute;\n",
       "  width: 1px;\n",
       "}\n",
       "\n",
       "#sk-container-id-11 div.sk-dashed-wrapped {\n",
       "  border: 1px dashed var(--sklearn-color-line);\n",
       "  margin: 0 0.4em 0.5em 0.4em;\n",
       "  box-sizing: border-box;\n",
       "  padding-bottom: 0.4em;\n",
       "  background-color: var(--sklearn-color-background);\n",
       "}\n",
       "\n",
       "#sk-container-id-11 div.sk-container {\n",
       "  /* jupyter's `normalize.less` sets `[hidden] { display: none; }`\n",
       "     but bootstrap.min.css set `[hidden] { display: none !important; }`\n",
       "     so we also need the `!important` here to be able to override the\n",
       "     default hidden behavior on the sphinx rendered scikit-learn.org.\n",
       "     See: https://github.com/scikit-learn/scikit-learn/issues/21755 */\n",
       "  display: inline-block !important;\n",
       "  position: relative;\n",
       "}\n",
       "\n",
       "#sk-container-id-11 div.sk-text-repr-fallback {\n",
       "  display: none;\n",
       "}\n",
       "\n",
       "div.sk-parallel-item,\n",
       "div.sk-serial,\n",
       "div.sk-item {\n",
       "  /* draw centered vertical line to link estimators */\n",
       "  background-image: linear-gradient(var(--sklearn-color-text-on-default-background), var(--sklearn-color-text-on-default-background));\n",
       "  background-size: 2px 100%;\n",
       "  background-repeat: no-repeat;\n",
       "  background-position: center center;\n",
       "}\n",
       "\n",
       "/* Parallel-specific style estimator block */\n",
       "\n",
       "#sk-container-id-11 div.sk-parallel-item::after {\n",
       "  content: \"\";\n",
       "  width: 100%;\n",
       "  border-bottom: 2px solid var(--sklearn-color-text-on-default-background);\n",
       "  flex-grow: 1;\n",
       "}\n",
       "\n",
       "#sk-container-id-11 div.sk-parallel {\n",
       "  display: flex;\n",
       "  align-items: stretch;\n",
       "  justify-content: center;\n",
       "  background-color: var(--sklearn-color-background);\n",
       "  position: relative;\n",
       "}\n",
       "\n",
       "#sk-container-id-11 div.sk-parallel-item {\n",
       "  display: flex;\n",
       "  flex-direction: column;\n",
       "}\n",
       "\n",
       "#sk-container-id-11 div.sk-parallel-item:first-child::after {\n",
       "  align-self: flex-end;\n",
       "  width: 50%;\n",
       "}\n",
       "\n",
       "#sk-container-id-11 div.sk-parallel-item:last-child::after {\n",
       "  align-self: flex-start;\n",
       "  width: 50%;\n",
       "}\n",
       "\n",
       "#sk-container-id-11 div.sk-parallel-item:only-child::after {\n",
       "  width: 0;\n",
       "}\n",
       "\n",
       "/* Serial-specific style estimator block */\n",
       "\n",
       "#sk-container-id-11 div.sk-serial {\n",
       "  display: flex;\n",
       "  flex-direction: column;\n",
       "  align-items: center;\n",
       "  background-color: var(--sklearn-color-background);\n",
       "  padding-right: 1em;\n",
       "  padding-left: 1em;\n",
       "}\n",
       "\n",
       "\n",
       "/* Toggleable style: style used for estimator/Pipeline/ColumnTransformer box that is\n",
       "clickable and can be expanded/collapsed.\n",
       "- Pipeline and ColumnTransformer use this feature and define the default style\n",
       "- Estimators will overwrite some part of the style using the `sk-estimator` class\n",
       "*/\n",
       "\n",
       "/* Pipeline and ColumnTransformer style (default) */\n",
       "\n",
       "#sk-container-id-11 div.sk-toggleable {\n",
       "  /* Default theme specific background. It is overwritten whether we have a\n",
       "  specific estimator or a Pipeline/ColumnTransformer */\n",
       "  background-color: var(--sklearn-color-background);\n",
       "}\n",
       "\n",
       "/* Toggleable label */\n",
       "#sk-container-id-11 label.sk-toggleable__label {\n",
       "  cursor: pointer;\n",
       "  display: block;\n",
       "  width: 100%;\n",
       "  margin-bottom: 0;\n",
       "  padding: 0.5em;\n",
       "  box-sizing: border-box;\n",
       "  text-align: center;\n",
       "}\n",
       "\n",
       "#sk-container-id-11 label.sk-toggleable__label-arrow:before {\n",
       "  /* Arrow on the left of the label */\n",
       "  content: \"▸\";\n",
       "  float: left;\n",
       "  margin-right: 0.25em;\n",
       "  color: var(--sklearn-color-icon);\n",
       "}\n",
       "\n",
       "#sk-container-id-11 label.sk-toggleable__label-arrow:hover:before {\n",
       "  color: var(--sklearn-color-text);\n",
       "}\n",
       "\n",
       "/* Toggleable content - dropdown */\n",
       "\n",
       "#sk-container-id-11 div.sk-toggleable__content {\n",
       "  max-height: 0;\n",
       "  max-width: 0;\n",
       "  overflow: hidden;\n",
       "  text-align: left;\n",
       "  /* unfitted */\n",
       "  background-color: var(--sklearn-color-unfitted-level-0);\n",
       "}\n",
       "\n",
       "#sk-container-id-11 div.sk-toggleable__content.fitted {\n",
       "  /* fitted */\n",
       "  background-color: var(--sklearn-color-fitted-level-0);\n",
       "}\n",
       "\n",
       "#sk-container-id-11 div.sk-toggleable__content pre {\n",
       "  margin: 0.2em;\n",
       "  border-radius: 0.25em;\n",
       "  color: var(--sklearn-color-text);\n",
       "  /* unfitted */\n",
       "  background-color: var(--sklearn-color-unfitted-level-0);\n",
       "}\n",
       "\n",
       "#sk-container-id-11 div.sk-toggleable__content.fitted pre {\n",
       "  /* unfitted */\n",
       "  background-color: var(--sklearn-color-fitted-level-0);\n",
       "}\n",
       "\n",
       "#sk-container-id-11 input.sk-toggleable__control:checked~div.sk-toggleable__content {\n",
       "  /* Expand drop-down */\n",
       "  max-height: 200px;\n",
       "  max-width: 100%;\n",
       "  overflow: auto;\n",
       "}\n",
       "\n",
       "#sk-container-id-11 input.sk-toggleable__control:checked~label.sk-toggleable__label-arrow:before {\n",
       "  content: \"▾\";\n",
       "}\n",
       "\n",
       "/* Pipeline/ColumnTransformer-specific style */\n",
       "\n",
       "#sk-container-id-11 div.sk-label input.sk-toggleable__control:checked~label.sk-toggleable__label {\n",
       "  color: var(--sklearn-color-text);\n",
       "  background-color: var(--sklearn-color-unfitted-level-2);\n",
       "}\n",
       "\n",
       "#sk-container-id-11 div.sk-label.fitted input.sk-toggleable__control:checked~label.sk-toggleable__label {\n",
       "  background-color: var(--sklearn-color-fitted-level-2);\n",
       "}\n",
       "\n",
       "/* Estimator-specific style */\n",
       "\n",
       "/* Colorize estimator box */\n",
       "#sk-container-id-11 div.sk-estimator input.sk-toggleable__control:checked~label.sk-toggleable__label {\n",
       "  /* unfitted */\n",
       "  background-color: var(--sklearn-color-unfitted-level-2);\n",
       "}\n",
       "\n",
       "#sk-container-id-11 div.sk-estimator.fitted input.sk-toggleable__control:checked~label.sk-toggleable__label {\n",
       "  /* fitted */\n",
       "  background-color: var(--sklearn-color-fitted-level-2);\n",
       "}\n",
       "\n",
       "#sk-container-id-11 div.sk-label label.sk-toggleable__label,\n",
       "#sk-container-id-11 div.sk-label label {\n",
       "  /* The background is the default theme color */\n",
       "  color: var(--sklearn-color-text-on-default-background);\n",
       "}\n",
       "\n",
       "/* On hover, darken the color of the background */\n",
       "#sk-container-id-11 div.sk-label:hover label.sk-toggleable__label {\n",
       "  color: var(--sklearn-color-text);\n",
       "  background-color: var(--sklearn-color-unfitted-level-2);\n",
       "}\n",
       "\n",
       "/* Label box, darken color on hover, fitted */\n",
       "#sk-container-id-11 div.sk-label.fitted:hover label.sk-toggleable__label.fitted {\n",
       "  color: var(--sklearn-color-text);\n",
       "  background-color: var(--sklearn-color-fitted-level-2);\n",
       "}\n",
       "\n",
       "/* Estimator label */\n",
       "\n",
       "#sk-container-id-11 div.sk-label label {\n",
       "  font-family: monospace;\n",
       "  font-weight: bold;\n",
       "  display: inline-block;\n",
       "  line-height: 1.2em;\n",
       "}\n",
       "\n",
       "#sk-container-id-11 div.sk-label-container {\n",
       "  text-align: center;\n",
       "}\n",
       "\n",
       "/* Estimator-specific */\n",
       "#sk-container-id-11 div.sk-estimator {\n",
       "  font-family: monospace;\n",
       "  border: 1px dotted var(--sklearn-color-border-box);\n",
       "  border-radius: 0.25em;\n",
       "  box-sizing: border-box;\n",
       "  margin-bottom: 0.5em;\n",
       "  /* unfitted */\n",
       "  background-color: var(--sklearn-color-unfitted-level-0);\n",
       "}\n",
       "\n",
       "#sk-container-id-11 div.sk-estimator.fitted {\n",
       "  /* fitted */\n",
       "  background-color: var(--sklearn-color-fitted-level-0);\n",
       "}\n",
       "\n",
       "/* on hover */\n",
       "#sk-container-id-11 div.sk-estimator:hover {\n",
       "  /* unfitted */\n",
       "  background-color: var(--sklearn-color-unfitted-level-2);\n",
       "}\n",
       "\n",
       "#sk-container-id-11 div.sk-estimator.fitted:hover {\n",
       "  /* fitted */\n",
       "  background-color: var(--sklearn-color-fitted-level-2);\n",
       "}\n",
       "\n",
       "/* Specification for estimator info (e.g. \"i\" and \"?\") */\n",
       "\n",
       "/* Common style for \"i\" and \"?\" */\n",
       "\n",
       ".sk-estimator-doc-link,\n",
       "a:link.sk-estimator-doc-link,\n",
       "a:visited.sk-estimator-doc-link {\n",
       "  float: right;\n",
       "  font-size: smaller;\n",
       "  line-height: 1em;\n",
       "  font-family: monospace;\n",
       "  background-color: var(--sklearn-color-background);\n",
       "  border-radius: 1em;\n",
       "  height: 1em;\n",
       "  width: 1em;\n",
       "  text-decoration: none !important;\n",
       "  margin-left: 1ex;\n",
       "  /* unfitted */\n",
       "  border: var(--sklearn-color-unfitted-level-1) 1pt solid;\n",
       "  color: var(--sklearn-color-unfitted-level-1);\n",
       "}\n",
       "\n",
       ".sk-estimator-doc-link.fitted,\n",
       "a:link.sk-estimator-doc-link.fitted,\n",
       "a:visited.sk-estimator-doc-link.fitted {\n",
       "  /* fitted */\n",
       "  border: var(--sklearn-color-fitted-level-1) 1pt solid;\n",
       "  color: var(--sklearn-color-fitted-level-1);\n",
       "}\n",
       "\n",
       "/* On hover */\n",
       "div.sk-estimator:hover .sk-estimator-doc-link:hover,\n",
       ".sk-estimator-doc-link:hover,\n",
       "div.sk-label-container:hover .sk-estimator-doc-link:hover,\n",
       ".sk-estimator-doc-link:hover {\n",
       "  /* unfitted */\n",
       "  background-color: var(--sklearn-color-unfitted-level-3);\n",
       "  color: var(--sklearn-color-background);\n",
       "  text-decoration: none;\n",
       "}\n",
       "\n",
       "div.sk-estimator.fitted:hover .sk-estimator-doc-link.fitted:hover,\n",
       ".sk-estimator-doc-link.fitted:hover,\n",
       "div.sk-label-container:hover .sk-estimator-doc-link.fitted:hover,\n",
       ".sk-estimator-doc-link.fitted:hover {\n",
       "  /* fitted */\n",
       "  background-color: var(--sklearn-color-fitted-level-3);\n",
       "  color: var(--sklearn-color-background);\n",
       "  text-decoration: none;\n",
       "}\n",
       "\n",
       "/* Span, style for the box shown on hovering the info icon */\n",
       ".sk-estimator-doc-link span {\n",
       "  display: none;\n",
       "  z-index: 9999;\n",
       "  position: relative;\n",
       "  font-weight: normal;\n",
       "  right: .2ex;\n",
       "  padding: .5ex;\n",
       "  margin: .5ex;\n",
       "  width: min-content;\n",
       "  min-width: 20ex;\n",
       "  max-width: 50ex;\n",
       "  color: var(--sklearn-color-text);\n",
       "  box-shadow: 2pt 2pt 4pt #999;\n",
       "  /* unfitted */\n",
       "  background: var(--sklearn-color-unfitted-level-0);\n",
       "  border: .5pt solid var(--sklearn-color-unfitted-level-3);\n",
       "}\n",
       "\n",
       ".sk-estimator-doc-link.fitted span {\n",
       "  /* fitted */\n",
       "  background: var(--sklearn-color-fitted-level-0);\n",
       "  border: var(--sklearn-color-fitted-level-3);\n",
       "}\n",
       "\n",
       ".sk-estimator-doc-link:hover span {\n",
       "  display: block;\n",
       "}\n",
       "\n",
       "/* \"?\"-specific style due to the `<a>` HTML tag */\n",
       "\n",
       "#sk-container-id-11 a.estimator_doc_link {\n",
       "  float: right;\n",
       "  font-size: 1rem;\n",
       "  line-height: 1em;\n",
       "  font-family: monospace;\n",
       "  background-color: var(--sklearn-color-background);\n",
       "  border-radius: 1rem;\n",
       "  height: 1rem;\n",
       "  width: 1rem;\n",
       "  text-decoration: none;\n",
       "  /* unfitted */\n",
       "  color: var(--sklearn-color-unfitted-level-1);\n",
       "  border: var(--sklearn-color-unfitted-level-1) 1pt solid;\n",
       "}\n",
       "\n",
       "#sk-container-id-11 a.estimator_doc_link.fitted {\n",
       "  /* fitted */\n",
       "  border: var(--sklearn-color-fitted-level-1) 1pt solid;\n",
       "  color: var(--sklearn-color-fitted-level-1);\n",
       "}\n",
       "\n",
       "/* On hover */\n",
       "#sk-container-id-11 a.estimator_doc_link:hover {\n",
       "  /* unfitted */\n",
       "  background-color: var(--sklearn-color-unfitted-level-3);\n",
       "  color: var(--sklearn-color-background);\n",
       "  text-decoration: none;\n",
       "}\n",
       "\n",
       "#sk-container-id-11 a.estimator_doc_link.fitted:hover {\n",
       "  /* fitted */\n",
       "  background-color: var(--sklearn-color-fitted-level-3);\n",
       "}\n",
       "</style><div id=\"sk-container-id-11\" class=\"sk-top-container\"><div class=\"sk-text-repr-fallback\"><pre>LinearDiscriminantAnalysis()</pre><b>In a Jupyter environment, please rerun this cell to show the HTML representation or trust the notebook. <br />On GitHub, the HTML representation is unable to render, please try loading this page with nbviewer.org.</b></div><div class=\"sk-container\" hidden><div class=\"sk-item\"><div class=\"sk-estimator fitted sk-toggleable\"><input class=\"sk-toggleable__control sk-hidden--visually\" id=\"sk-estimator-id-11\" type=\"checkbox\" checked><label for=\"sk-estimator-id-11\" class=\"sk-toggleable__label fitted sk-toggleable__label-arrow fitted\">&nbsp;&nbsp;LinearDiscriminantAnalysis<a class=\"sk-estimator-doc-link fitted\" rel=\"noreferrer\" target=\"_blank\" href=\"https://scikit-learn.org/1.5/modules/generated/sklearn.discriminant_analysis.LinearDiscriminantAnalysis.html\">?<span>Documentation for LinearDiscriminantAnalysis</span></a><span class=\"sk-estimator-doc-link fitted\">i<span>Fitted</span></span></label><div class=\"sk-toggleable__content fitted\"><pre>LinearDiscriminantAnalysis()</pre></div> </div></div></div></div>"
      ]
     },
     "execution_count": 199,
     "metadata": {},
     "output_type": "execute_result"
    }
   ],
   "execution_count": 199
  },
  {
   "metadata": {
    "ExecuteTime": {
     "end_time": "2024-10-15T22:14:20.151870Z",
     "start_time": "2024-10-15T22:14:20.132643Z"
    }
   },
   "cell_type": "code",
   "source": "y_pred = model.predict(x_test)\n",
   "id": "8de7e1e58cc8a996",
   "outputs": [],
   "execution_count": 200
  },
  {
   "metadata": {},
   "cell_type": "markdown",
   "source": [
    "### Confusion Matrix and Classification Report\n",
    "1. Show the confusion matrix and classification report, using PosGroup as class. Do note that you may need to clean the dataset, and perhaps, to encode and/ or normalize some variables."
   ],
   "id": "df49f11205a1741d"
  },
  {
   "metadata": {
    "ExecuteTime": {
     "end_time": "2024-10-15T22:29:54.791454Z",
     "start_time": "2024-10-15T22:29:54.771089Z"
    }
   },
   "cell_type": "code",
   "source": [
    "conf_matrix = confusion_matrix(y_test, y_pred)\n",
    "clas_report = classification_report(y_test, y_pred)"
   ],
   "id": "41e5e0a676034b4b",
   "outputs": [],
   "execution_count": 218
  },
  {
   "metadata": {
    "ExecuteTime": {
     "end_time": "2024-10-15T22:29:55.720539Z",
     "start_time": "2024-10-15T22:29:55.582945Z"
    }
   },
   "cell_type": "code",
   "source": [
    "fig, ax = plt.subplots(figsize=(8,8))\n",
    "\n",
    "sns.heatmap(conf_matrix, annot = True, ax = ax, vmin=0, vmax=150, fmt=\"d\", linewidths=.5, linecolor = 'white', cmap=\"Reds\")\n",
    "ax.set_xlabel('Predicted labels')\n",
    "ax.set_ylabel('True labels');\n",
    "ax.set_title('Confusion Matrix');\n",
    "ax.xaxis.set_ticklabels(['dback', 'def', 'lineb','run'])\n",
    "ax.yaxis.set_ticklabels(['dback', 'def', 'lineb','run']);\n",
    "\n",
    "b, t = plt.ylim()\n",
    "b += 0.5\n",
    "t -= 0.5\n",
    "plt.ylim(b, t)\n",
    "\n",
    "plt.show()"
   ],
   "id": "664fac24799ba927",
   "outputs": [
    {
     "data": {
      "text/plain": [
       "<Figure size 800x800 with 2 Axes>"
      ],
      "image/png": "[encoded data removed]"
     },
     "metadata": {},
     "output_type": "display_data"
    }
   ],
   "execution_count": 219
  },
  {
   "metadata": {},
   "cell_type": "markdown",
   "source": "As seen, the matrix goes pretty well, the main diagonal shows the biggest numbers, that means that the model goes well.",
   "id": "b28844f599f5e80e"
  },
  {
   "metadata": {
    "ExecuteTime": {
     "end_time": "2024-10-15T22:17:49.894210Z",
     "start_time": "2024-10-15T22:17:49.887682Z"
    }
   },
   "cell_type": "code",
   "source": "print(f'Classification Report:\\n {clas_report}')",
   "id": "203e33bda89a801b",
   "outputs": [
    {
     "name": "stdout",
     "output_type": "stream",
     "text": [
      "Classification Report:\n",
      "               precision    recall  f1-score   support\n",
      "\n",
      "       dback       0.84      0.94      0.89        82\n",
      "         def       0.98      0.85      0.91        61\n",
      "       lineb       0.78      0.87      0.82        69\n",
      "         run       0.76      0.48      0.59        27\n",
      "\n",
      "    accuracy                           0.85       239\n",
      "   macro avg       0.84      0.79      0.80       239\n",
      "weighted avg       0.85      0.85      0.84       239\n",
      "\n"
     ]
    }
   ],
   "execution_count": 204
  },
  {
   "metadata": {},
   "cell_type": "markdown",
   "source": "The scores may change in the future, but the f1-score of every variable is pretty high, being 0.89 for dbacks, 0.91 for def, 0.82 for lineb and 0.59 for run. Also the model has an accuracy of 0.85, which is pretty high for this kind of situations.",
   "id": "fe786904a250dd83"
  },
  {
   "metadata": {},
   "cell_type": "markdown",
   "source": [
    "### Cross Validation Report\n",
    "2. Calculate the cross validation score (CVS). Show it."
   ],
   "id": "830f80e088d349c9"
  },
  {
   "metadata": {
    "ExecuteTime": {
     "end_time": "2024-10-15T22:19:38.756971Z",
     "start_time": "2024-10-15T22:19:38.601865Z"
    }
   },
   "cell_type": "code",
   "source": [
    "scores = cross_val_score(model, x, y, cv=5)\n",
    "\n",
    "print(f'Cross-Validation Scores: {scores}')\n",
    "print(f'Average Cross-Validation Score: {scores.mean()}')"
   ],
   "id": "7b63d238fa0aab9a",
   "outputs": [
    {
     "name": "stdout",
     "output_type": "stream",
     "text": [
      "Cross-Validation Scores: [0.84937238 0.77405858 0.77731092 0.82352941 0.84453782]\n",
      "Average Cross-Validation Score: 0.8137618227207201\n"
     ]
    }
   ],
   "execution_count": 205
  },
  {
   "metadata": {},
   "cell_type": "markdown",
   "source": "Overall, the results indicate that the model is performing well, with reasonable consistency across different validation folds. An average score of 0.814 indicates that the model has good predictive power and can generalize well to unseen data, which is a desirable characteristic in a predictive model.",
   "id": "ca47d617fabc49d3"
  },
  {
   "metadata": {},
   "cell_type": "markdown",
   "source": [
    "### Removing any independent variable\n",
    "3. Remove any independent variable(s) so that the model results in a larger CVS. Show the resulting variable(s) and the final CVS."
   ],
   "id": "9e3cdf636b4219b7"
  },
  {
   "metadata": {
    "ExecuteTime": {
     "end_time": "2024-10-15T22:09:27.597897Z",
     "start_time": "2024-10-15T22:09:27.575035Z"
    }
   },
   "cell_type": "code",
   "source": [
    "selector = RFECV(model, cv=3)\n",
    "selector = selector.fit(x_train, y_train)\n",
    "print(\"Optimal number of variables: %d\" % selector.n_features_)\n",
    "print(\"Selected variables: %s\" % selector.support_)"
   ],
   "id": "bee7cacbbc9d6657",
   "outputs": [
    {
     "name": "stdout",
     "output_type": "stream",
     "text": [
      "Optimal number of variables: 2\n",
      "Selected variables: [ True  True]\n"
     ]
    }
   ],
   "execution_count": 169
  },
  {
   "metadata": {},
   "cell_type": "markdown",
   "source": "Apparently, both independent variables are needed in the model, since the Recursive Feature Elimination, after the iterations, did not find any variables that is not important. The final Cross Validation Score would be the same as the last one.",
   "id": "626293c1a53ac087"
  },
  {
   "metadata": {},
   "cell_type": "markdown",
   "source": [
    "### Prediction\n",
    "4. Show the predicted PosGroup for a guy with jersey number 64, 71\" tall, 199 lb weight, born on June 17th, 1990; four years of experience, who comes from Alabama college, plays for the 49ers, and whose state is Florida. Do note that you may not need some of these data, depending on your model. If you deem that you need more info, you may make assumptions, as long as these are explicit in a text cell."
   ],
   "id": "a7ff417982717941"
  },
  {
   "metadata": {},
   "cell_type": "markdown",
   "source": "In this section, I will test the code with a sample of one player, the data is given in the text above.",
   "id": "6cb7cd6564d8e428"
  },
  {
   "metadata": {
    "ExecuteTime": {
     "end_time": "2024-10-15T22:09:29.978802Z",
     "start_time": "2024-10-15T22:09:29.974083Z"
    }
   },
   "cell_type": "code",
   "source": [
    "player_data = pd.DataFrame({\n",
    "    'JerseyNumber': [64],\n",
    "    'Height': [71],  # in inches\n",
    "    'Weight': [199],  # in pounds\n",
    "    'BirthDate': ['1990-06-17'],\n",
    "    'Experience': [4],  # in years\n",
    "    'College': ['Alabama'],\n",
    "    'Team': ['49ers'],\n",
    "    'State': ['Florida']\n",
    "})\n",
    "\n",
    "player_data = player_data[['Height', 'Weight']]\n",
    "\n"
   ],
   "id": "4c0444b24e397a3f",
   "outputs": [],
   "execution_count": 170
  },
  {
   "metadata": {
    "ExecuteTime": {
     "end_time": "2024-10-15T22:09:32.154517Z",
     "start_time": "2024-10-15T22:09:32.149425Z"
    }
   },
   "cell_type": "code",
   "source": [
    "pred = model.predict(player_data)\n",
    "\n",
    "print(\"After the model, the predicted position of the player is:\", pred[0])"
   ],
   "id": "907539565f423f12",
   "outputs": [
    {
     "name": "stdout",
     "output_type": "stream",
     "text": [
      "After the model, the predicted position of the player is: def\n"
     ]
    }
   ],
   "execution_count": 171
  },
  {
   "metadata": {},
   "cell_type": "markdown",
   "source": "*def stands for defensive",
   "id": "aff8dcd3f96b0886"
  },
  {
   "metadata": {},
   "cell_type": "markdown",
   "source": "### Linear Regression Model",
   "id": "1a627606ce05815b"
  },
  {
   "metadata": {},
   "cell_type": "markdown",
   "source": "To run this linear regression model, I will need to encode the dependant variable: PosGroup, this because we need a quantitative variable. Also, in this section I will use the data frame 'dg'.",
   "id": "e39cd2eea7a4b92b"
  },
  {
   "metadata": {
    "ExecuteTime": {
     "end_time": "2024-10-15T22:22:35.633241Z",
     "start_time": "2024-10-15T22:22:35.629500Z"
    }
   },
   "cell_type": "code",
   "source": [
    "le = LabelEncoder()\n",
    "\n",
    "dg['PosGroup'] = le.fit_transform(dg['PosGroup'])\n"
   ],
   "id": "2669b739acc99f51",
   "outputs": [],
   "execution_count": 207
  },
  {
   "metadata": {
    "ExecuteTime": {
     "end_time": "2024-10-15T22:22:37.719850Z",
     "start_time": "2024-10-15T22:22:37.716901Z"
    }
   },
   "cell_type": "code",
   "source": [
    "labels = le.classes_\n",
    "\n",
    "for i, label in enumerate(labels):\n",
    "    print(f\"{label}: {i}\")"
   ],
   "id": "a710ee8500f7cbb8",
   "outputs": [
    {
     "name": "stdout",
     "output_type": "stream",
     "text": [
      "dback: 0\n",
      "def: 1\n",
      "lineb: 2\n",
      "run: 3\n"
     ]
    }
   ],
   "execution_count": 208
  },
  {
   "metadata": {
    "ExecuteTime": {
     "end_time": "2024-10-15T22:22:38.753144Z",
     "start_time": "2024-10-15T22:22:38.747623Z"
    }
   },
   "cell_type": "code",
   "source": [
    "y = dg['PosGroup']\n",
    "x = dg[['Height', 'Weight']]"
   ],
   "id": "9479630eb6767206",
   "outputs": [],
   "execution_count": 209
  },
  {
   "metadata": {
    "ExecuteTime": {
     "end_time": "2024-10-15T22:22:40.078814Z",
     "start_time": "2024-10-15T22:22:40.068749Z"
    }
   },
   "cell_type": "code",
   "source": [
    "model = LinearRegression().fit(x, y)\n",
    "r_squared = model.score(x, y)\n",
    "b = model.intercept_\n",
    "m = model.coef_\n"
   ],
   "id": "724d7fbb3a8dd6e",
   "outputs": [],
   "execution_count": 210
  },
  {
   "metadata": {
    "ExecuteTime": {
     "end_time": "2024-10-15T22:22:40.896507Z",
     "start_time": "2024-10-15T22:22:40.893630Z"
    }
   },
   "cell_type": "code",
   "source": "print(f\"The results of the linear regression is an r^2 score of {r_squared:.2f}, the intercept is {b:.2f}, and the coefficients are {m[0]:.2f} and {m[1]:.2f}, for Height and Weight respectively.\" )",
   "id": "8f1bf503c096ff07",
   "outputs": [
    {
     "name": "stdout",
     "output_type": "stream",
     "text": [
      "The results of the linear regression is an r^2 score of 0.06, the intercept is 6.18, and the coefficients are -0.10 and 0.01, for Height and Weight respectively.\n"
     ]
    }
   ],
   "execution_count": 211
  },
  {
   "metadata": {},
   "cell_type": "markdown",
   "source": "If you want to make a prediction with this linear regression model, it would be like this.",
   "id": "657f435caa4de0d"
  },
  {
   "metadata": {
    "ExecuteTime": {
     "end_time": "2024-10-15T22:22:42.135970Z",
     "start_time": "2024-10-15T22:22:42.129845Z"
    }
   },
   "cell_type": "code",
   "source": [
    "player_data = pd.DataFrame({\n",
    "    'JerseyNumber': [64],\n",
    "    'Height': [71],  # in inches\n",
    "    'Weight': [199],  # in pounds\n",
    "    'BirthDate': ['1990-06-17'],\n",
    "    'Experience': [4],  # in years\n",
    "    'College': ['Alabama'],\n",
    "    'Team': ['49ers'],\n",
    "    'State': ['Florida']\n",
    "})\n",
    "player_data = player_data[['Height', 'Weight']]\n",
    "\n",
    "pred = model.predict(player_data)\n",
    "pred[0]"
   ],
   "id": "9bf8207dc8f41597",
   "outputs": [
    {
     "data": {
      "text/plain": [
       "1.0667561291391063"
      ]
     },
     "execution_count": 212,
     "metadata": {},
     "output_type": "execute_result"
    }
   ],
   "execution_count": 212
  },
  {
   "metadata": {},
   "cell_type": "markdown",
   "source": "Or seen, in a more simple form: (uncomment to run it)",
   "id": "47e0cbc55ca37d5d"
  },
  {
   "metadata": {
    "ExecuteTime": {
     "end_time": "2024-10-15T22:22:45.106905Z",
     "start_time": "2024-10-15T22:22:45.103056Z"
    }
   },
   "cell_type": "code",
   "source": [
    "\"\"\"\n",
    "b0 = 6.18\n",
    "b1 = -0.10\n",
    "b2 = 0.01\n",
    "height = 71\n",
    "weight = 199\n",
    "\n",
    "pos_group = b0 + (b1 * height) + (b2 * weight)\n",
    "pos_group\n",
    "\"\"\""
   ],
   "id": "95f86ec687ae86c",
   "outputs": [
    {
     "data": {
      "text/plain": [
       "1.0699999999999992"
      ]
     },
     "execution_count": 213,
     "metadata": {},
     "output_type": "execute_result"
    }
   ],
   "execution_count": 213
  },
  {
   "metadata": {},
   "cell_type": "markdown",
   "source": "As seen, the result is PosGroup = 1, that is very close to a defensive player, this goes similar to the result given by the Linear Discriminant Analysis seen recently. It predicted it was a defensive player also.",
   "id": "e0f7524017a6f5bc"
  },
  {
   "metadata": {},
   "cell_type": "markdown",
   "source": [
    "### Conclusion\n",
    "In conclusion, both models concluded that a player with those characteristics, is that the player should be a defensive player."
   ],
   "id": "99ce1a4924c9adb8"
  }
 ],
 "metadata": {
  "kernelspec": {
   "display_name": "Python 3",
   "language": "python",
   "name": "python3"
  },
  "language_info": {
   "codemirror_mode": {
    "name": "ipython",
    "version": 2
   },
   "file_extension": ".py",
   "mimetype": "text/x-python",
   "name": "python",
   "nbconvert_exporter": "python",
   "pygments_lexer": "ipython2",
   "version": "2.7.6"
  }
 },
 "nbformat": 4,
 "nbformat_minor": 5
}
